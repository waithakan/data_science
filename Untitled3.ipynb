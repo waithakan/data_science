{
  "nbformat": 4,
  "nbformat_minor": 0,
  "metadata": {
    "colab": {
      "provenance": [],
      "authorship_tag": "ABX9TyPKsatwHw+n5RN44tIz4pTv",
      "include_colab_link": true
    },
    "kernelspec": {
      "name": "python3",
      "display_name": "Python 3"
    },
    "language_info": {
      "name": "python"
    }
  },
  "cells": [
    {
      "cell_type": "markdown",
      "metadata": {
        "id": "view-in-github",
        "colab_type": "text"
      },
      "source": [
        "<a href=\"https://colab.research.google.com/github/waithakan/data_science/blob/master/Untitled3.ipynb\" target=\"_parent\"><img src=\"https://colab.research.google.com/assets/colab-badge.svg\" alt=\"Open In Colab\"/></a>"
      ]
    },
    {
      "cell_type": "code",
      "execution_count": null,
      "metadata": {
        "id": "fw8H0KQ6k64F"
      },
      "outputs": [],
      "source": [
        "data = pd.read_csv('accident.csv')\n",
        "\n",
        "\n",
        "\n",
        "X = data[['Accident_Index']]\n",
        "y = data['Sum of Vehicle_Reference']\n",
        "\n",
        "\n",
        "model = LinearRegression()\n",
        "model.fit(X, y)\n"
      ]
    }
  ]
}